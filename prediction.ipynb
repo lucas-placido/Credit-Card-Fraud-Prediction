{
 "cells": [
  {
   "cell_type": "markdown",
   "metadata": {},
   "source": [
    "# Detecção de Fraude de Cartão de Crédito"
   ]
  },
  {
   "cell_type": "markdown",
   "metadata": {},
   "source": [
    "## Contexto"
   ]
  },
  {
   "cell_type": "markdown",
   "metadata": {},
   "source": [
    "A fraude de cartão de crédito é um problema abrangente para as instituições financeiras, envolvendo roubo e fraude cometidos com cartão de pagamento. Sendo assim, é importante que as empresas de cartão de crédito sejam capazes de reconhecer transações fraudulentas para que os clientes não sejam cobrados por itens que não compraram."
   ]
  },
  {
   "cell_type": "markdown",
   "metadata": {},
   "source": [
    "## Informações sobre o dataset"
   ]
  },
  {
   "cell_type": "markdown",
   "metadata": {},
   "source": [
    "https://www.kaggle.com/datasets/dhanushnarayananr/credit-card-fraud"
   ]
  },
  {
   "cell_type": "markdown",
   "metadata": {},
   "source": [
    "<img src=\"about_dataset.png\">"
   ]
  },
  {
   "cell_type": "markdown",
   "metadata": {},
   "source": [
    "# Imports"
   ]
  },
  {
   "cell_type": "code",
   "execution_count": 1,
   "metadata": {},
   "outputs": [],
   "source": [
    "import pandas as pd\n",
    "import numpy as np\n",
    "import seaborn as sns\n",
    "import matplotlib.pyplot as plt\n",
    "from sklearn.model_selection import train_test_split\n",
    "from sklearn.preprocessing import MinMaxScaler\n",
    "from sklearn.metrics import confusion_matrix , ConfusionMatrixDisplay, classification_report"
   ]
  },
  {
   "cell_type": "code",
   "execution_count": 2,
   "metadata": {},
   "outputs": [],
   "source": [
    "df = pd.read_csv(\"card_transdata.csv\")"
   ]
  },
  {
   "cell_type": "markdown",
   "metadata": {},
   "source": [
    "# Exploratory Data Analisys"
   ]
  },
  {
   "cell_type": "code",
   "execution_count": 4,
   "metadata": {},
   "outputs": [
    {
     "data": {
      "text/html": [
       "<div>\n",
       "<style scoped>\n",
       "    .dataframe tbody tr th:only-of-type {\n",
       "        vertical-align: middle;\n",
       "    }\n",
       "\n",
       "    .dataframe tbody tr th {\n",
       "        vertical-align: top;\n",
       "    }\n",
       "\n",
       "    .dataframe thead th {\n",
       "        text-align: right;\n",
       "    }\n",
       "</style>\n",
       "<table border=\"1\" class=\"dataframe\">\n",
       "  <thead>\n",
       "    <tr style=\"text-align: right;\">\n",
       "      <th></th>\n",
       "      <th>distance_from_home</th>\n",
       "      <th>distance_from_last_transaction</th>\n",
       "      <th>ratio_to_median_purchase_price</th>\n",
       "      <th>repeat_retailer</th>\n",
       "      <th>used_chip</th>\n",
       "      <th>used_pin_number</th>\n",
       "      <th>online_order</th>\n",
       "      <th>fraud</th>\n",
       "    </tr>\n",
       "  </thead>\n",
       "  <tbody>\n",
       "    <tr>\n",
       "      <th>0</th>\n",
       "      <td>57.877857</td>\n",
       "      <td>0.311140</td>\n",
       "      <td>1.945940</td>\n",
       "      <td>1.0</td>\n",
       "      <td>1.0</td>\n",
       "      <td>0.0</td>\n",
       "      <td>0.0</td>\n",
       "      <td>0.0</td>\n",
       "    </tr>\n",
       "    <tr>\n",
       "      <th>1</th>\n",
       "      <td>10.829943</td>\n",
       "      <td>0.175592</td>\n",
       "      <td>1.294219</td>\n",
       "      <td>1.0</td>\n",
       "      <td>0.0</td>\n",
       "      <td>0.0</td>\n",
       "      <td>0.0</td>\n",
       "      <td>0.0</td>\n",
       "    </tr>\n",
       "    <tr>\n",
       "      <th>2</th>\n",
       "      <td>5.091079</td>\n",
       "      <td>0.805153</td>\n",
       "      <td>0.427715</td>\n",
       "      <td>1.0</td>\n",
       "      <td>0.0</td>\n",
       "      <td>0.0</td>\n",
       "      <td>1.0</td>\n",
       "      <td>0.0</td>\n",
       "    </tr>\n",
       "    <tr>\n",
       "      <th>3</th>\n",
       "      <td>2.247564</td>\n",
       "      <td>5.600044</td>\n",
       "      <td>0.362663</td>\n",
       "      <td>1.0</td>\n",
       "      <td>1.0</td>\n",
       "      <td>0.0</td>\n",
       "      <td>1.0</td>\n",
       "      <td>0.0</td>\n",
       "    </tr>\n",
       "    <tr>\n",
       "      <th>4</th>\n",
       "      <td>44.190936</td>\n",
       "      <td>0.566486</td>\n",
       "      <td>2.222767</td>\n",
       "      <td>1.0</td>\n",
       "      <td>1.0</td>\n",
       "      <td>0.0</td>\n",
       "      <td>1.0</td>\n",
       "      <td>0.0</td>\n",
       "    </tr>\n",
       "  </tbody>\n",
       "</table>\n",
       "</div>"
      ],
      "text/plain": [
       "   distance_from_home  distance_from_last_transaction  \\\n",
       "0           57.877857                        0.311140   \n",
       "1           10.829943                        0.175592   \n",
       "2            5.091079                        0.805153   \n",
       "3            2.247564                        5.600044   \n",
       "4           44.190936                        0.566486   \n",
       "\n",
       "   ratio_to_median_purchase_price  repeat_retailer  used_chip  \\\n",
       "0                        1.945940              1.0        1.0   \n",
       "1                        1.294219              1.0        0.0   \n",
       "2                        0.427715              1.0        0.0   \n",
       "3                        0.362663              1.0        1.0   \n",
       "4                        2.222767              1.0        1.0   \n",
       "\n",
       "   used_pin_number  online_order  fraud  \n",
       "0              0.0           0.0    0.0  \n",
       "1              0.0           0.0    0.0  \n",
       "2              0.0           1.0    0.0  \n",
       "3              0.0           1.0    0.0  \n",
       "4              0.0           1.0    0.0  "
      ]
     },
     "execution_count": 4,
     "metadata": {},
     "output_type": "execute_result"
    }
   ],
   "source": [
    "df.head()"
   ]
  },
  {
   "cell_type": "code",
   "execution_count": 5,
   "metadata": {},
   "outputs": [
    {
     "data": {
      "text/plain": [
       "(1000000, 8)"
      ]
     },
     "execution_count": 5,
     "metadata": {},
     "output_type": "execute_result"
    }
   ],
   "source": [
    "df.shape"
   ]
  },
  {
   "cell_type": "code",
   "execution_count": 6,
   "metadata": {},
   "outputs": [
    {
     "data": {
      "text/plain": [
       "distance_from_home                float64\n",
       "distance_from_last_transaction    float64\n",
       "ratio_to_median_purchase_price    float64\n",
       "repeat_retailer                   float64\n",
       "used_chip                         float64\n",
       "used_pin_number                   float64\n",
       "online_order                      float64\n",
       "fraud                             float64\n",
       "dtype: object"
      ]
     },
     "execution_count": 6,
     "metadata": {},
     "output_type": "execute_result"
    }
   ],
   "source": [
    "df.dtypes"
   ]
  },
  {
   "cell_type": "code",
   "execution_count": 4,
   "metadata": {},
   "outputs": [],
   "source": [
    "# Separando variáveis categóricas e numéricas\n",
    "categorical = list()\n",
    "numerical = list()\n",
    "\n",
    "for i in df.columns.to_list():\n",
    "    if len(df[i].value_counts()) > 2:\n",
    "        numerical.append(i)\n",
    "    else:\n",
    "        categorical.append(i)"
   ]
  },
  {
   "cell_type": "code",
   "execution_count": 8,
   "metadata": {},
   "outputs": [
    {
     "data": {
      "text/html": [
       "<div>\n",
       "<style scoped>\n",
       "    .dataframe tbody tr th:only-of-type {\n",
       "        vertical-align: middle;\n",
       "    }\n",
       "\n",
       "    .dataframe tbody tr th {\n",
       "        vertical-align: top;\n",
       "    }\n",
       "\n",
       "    .dataframe thead th {\n",
       "        text-align: right;\n",
       "    }\n",
       "</style>\n",
       "<table border=\"1\" class=\"dataframe\">\n",
       "  <thead>\n",
       "    <tr style=\"text-align: right;\">\n",
       "      <th></th>\n",
       "      <th>distance_from_home</th>\n",
       "      <th>distance_from_last_transaction</th>\n",
       "      <th>ratio_to_median_purchase_price</th>\n",
       "    </tr>\n",
       "  </thead>\n",
       "  <tbody>\n",
       "    <tr>\n",
       "      <th>count</th>\n",
       "      <td>1000000.000000</td>\n",
       "      <td>1000000.000000</td>\n",
       "      <td>1000000.000000</td>\n",
       "    </tr>\n",
       "    <tr>\n",
       "      <th>mean</th>\n",
       "      <td>26.628792</td>\n",
       "      <td>5.036519</td>\n",
       "      <td>1.824182</td>\n",
       "    </tr>\n",
       "    <tr>\n",
       "      <th>std</th>\n",
       "      <td>65.390784</td>\n",
       "      <td>25.843093</td>\n",
       "      <td>2.799589</td>\n",
       "    </tr>\n",
       "    <tr>\n",
       "      <th>min</th>\n",
       "      <td>0.004874</td>\n",
       "      <td>0.000118</td>\n",
       "      <td>0.004399</td>\n",
       "    </tr>\n",
       "    <tr>\n",
       "      <th>25%</th>\n",
       "      <td>3.878008</td>\n",
       "      <td>0.296671</td>\n",
       "      <td>0.475673</td>\n",
       "    </tr>\n",
       "    <tr>\n",
       "      <th>50%</th>\n",
       "      <td>9.967760</td>\n",
       "      <td>0.998650</td>\n",
       "      <td>0.997717</td>\n",
       "    </tr>\n",
       "    <tr>\n",
       "      <th>75%</th>\n",
       "      <td>25.743985</td>\n",
       "      <td>3.355748</td>\n",
       "      <td>2.096370</td>\n",
       "    </tr>\n",
       "    <tr>\n",
       "      <th>max</th>\n",
       "      <td>10632.723672</td>\n",
       "      <td>11851.104565</td>\n",
       "      <td>267.802942</td>\n",
       "    </tr>\n",
       "  </tbody>\n",
       "</table>\n",
       "</div>"
      ],
      "text/plain": [
       "       distance_from_home  distance_from_last_transaction  \\\n",
       "count      1000000.000000                  1000000.000000   \n",
       "mean            26.628792                        5.036519   \n",
       "std             65.390784                       25.843093   \n",
       "min              0.004874                        0.000118   \n",
       "25%              3.878008                        0.296671   \n",
       "50%              9.967760                        0.998650   \n",
       "75%             25.743985                        3.355748   \n",
       "max          10632.723672                    11851.104565   \n",
       "\n",
       "       ratio_to_median_purchase_price  \n",
       "count                  1000000.000000  \n",
       "mean                         1.824182  \n",
       "std                          2.799589  \n",
       "min                          0.004399  \n",
       "25%                          0.475673  \n",
       "50%                          0.997717  \n",
       "75%                          2.096370  \n",
       "max                        267.802942  "
      ]
     },
     "execution_count": 8,
     "metadata": {},
     "output_type": "execute_result"
    }
   ],
   "source": [
    "# Explorar mais estatísticas das variáveis numéricas\n",
    "df.drop(columns=categorical, axis= 1).describe()"
   ]
  },
  {
   "cell_type": "code",
   "execution_count": 55,
   "metadata": {},
   "outputs": [
    {
     "data": {
      "text/html": [
       "<div>\n",
       "<style scoped>\n",
       "    .dataframe tbody tr th:only-of-type {\n",
       "        vertical-align: middle;\n",
       "    }\n",
       "\n",
       "    .dataframe tbody tr th {\n",
       "        vertical-align: top;\n",
       "    }\n",
       "\n",
       "    .dataframe thead th {\n",
       "        text-align: right;\n",
       "    }\n",
       "</style>\n",
       "<table border=\"1\" class=\"dataframe\">\n",
       "  <thead>\n",
       "    <tr style=\"text-align: right;\">\n",
       "      <th></th>\n",
       "      <th>fraud</th>\n",
       "      <th>0.0</th>\n",
       "      <th>1.0</th>\n",
       "    </tr>\n",
       "  </thead>\n",
       "  <tbody>\n",
       "    <tr>\n",
       "      <th rowspan=\"2\" valign=\"top\">distance_from_home</th>\n",
       "      <th>mean</th>\n",
       "      <td>22.832976</td>\n",
       "      <td>66.261876</td>\n",
       "    </tr>\n",
       "    <tr>\n",
       "      <th>std</th>\n",
       "      <td>52.828655</td>\n",
       "      <td>134.391608</td>\n",
       "    </tr>\n",
       "    <tr>\n",
       "      <th rowspan=\"2\" valign=\"top\">distance_from_last_transaction</th>\n",
       "      <th>mean</th>\n",
       "      <td>4.301391</td>\n",
       "      <td>12.712185</td>\n",
       "    </tr>\n",
       "    <tr>\n",
       "      <th>std</th>\n",
       "      <td>22.472359</td>\n",
       "      <td>47.997697</td>\n",
       "    </tr>\n",
       "    <tr>\n",
       "      <th rowspan=\"2\" valign=\"top\">ratio_to_median_purchase_price</th>\n",
       "      <th>mean</th>\n",
       "      <td>1.423642</td>\n",
       "      <td>6.006323</td>\n",
       "    </tr>\n",
       "    <tr>\n",
       "      <th>std</th>\n",
       "      <td>1.946152</td>\n",
       "      <td>5.564320</td>\n",
       "    </tr>\n",
       "  </tbody>\n",
       "</table>\n",
       "</div>"
      ],
      "text/plain": [
       "fraud                                      0.0         1.0\n",
       "distance_from_home             mean  22.832976   66.261876\n",
       "                               std   52.828655  134.391608\n",
       "distance_from_last_transaction mean   4.301391   12.712185\n",
       "                               std   22.472359   47.997697\n",
       "ratio_to_median_purchase_price mean   1.423642    6.006323\n",
       "                               std    1.946152    5.564320"
      ]
     },
     "execution_count": 55,
     "metadata": {},
     "output_type": "execute_result"
    }
   ],
   "source": [
    "# O quão diferem os valores médios por transação ?\n",
    "df[numerical].join(df['fraud']).groupby('fraud').agg([np.mean, np.std]).T"
   ]
  },
  {
   "cell_type": "code",
   "execution_count": 7,
   "metadata": {},
   "outputs": [
    {
     "name": "stdout",
     "output_type": "stream",
     "text": [
      "distance_from_home\n"
     ]
    },
    {
     "data": {
      "image/png": "[encoded data removed]",
      "text/plain": [
       "<Figure size 432x288 with 1 Axes>"
      ]
     },
     "metadata": {
      "needs_background": "light"
     },
     "output_type": "display_data"
    },
    {
     "name": "stdout",
     "output_type": "stream",
     "text": [
      "distance_from_last_transaction\n"
     ]
    },
    {
     "data": {
      "image/png": "[encoded data removed]",
      "text/plain": [
       "<Figure size 432x288 with 1 Axes>"
      ]
     },
     "metadata": {
      "needs_background": "light"
     },
     "output_type": "display_data"
    },
    {
     "name": "stdout",
     "output_type": "stream",
     "text": [
      "ratio_to_median_purchase_price\n"
     ]
    },
    {
     "data": {
      "image/png": "[encoded data removed]",
      "text/plain": [
       "<Figure size 432x288 with 1 Axes>"
      ]
     },
     "metadata": {
      "needs_background": "light"
     },
     "output_type": "display_data"
    }
   ],
   "source": [
    "# Exibindo distribuição das variáveis numéricas\n",
    "for i in numerical:\n",
    "    print(i)\n",
    "    sns.boxplot(data= df, x = i)\n",
    "    plt.show()"
   ]
  },
  {
   "cell_type": "code",
   "execution_count": 10,
   "metadata": {},
   "outputs": [
    {
     "data": {
      "text/html": [
       "<div>\n",
       "<style scoped>\n",
       "    .dataframe tbody tr th:only-of-type {\n",
       "        vertical-align: middle;\n",
       "    }\n",
       "\n",
       "    .dataframe tbody tr th {\n",
       "        vertical-align: top;\n",
       "    }\n",
       "\n",
       "    .dataframe thead th {\n",
       "        text-align: right;\n",
       "    }\n",
       "</style>\n",
       "<table border=\"1\" class=\"dataframe\">\n",
       "  <thead>\n",
       "    <tr style=\"text-align: right;\">\n",
       "      <th></th>\n",
       "      <th>repeat_retailer</th>\n",
       "      <th>used_chip</th>\n",
       "      <th>used_pin_number</th>\n",
       "      <th>online_order</th>\n",
       "      <th>fraud</th>\n",
       "    </tr>\n",
       "  </thead>\n",
       "  <tbody>\n",
       "    <tr>\n",
       "      <th>count</th>\n",
       "      <td>1000000.000000</td>\n",
       "      <td>1000000.000000</td>\n",
       "      <td>1000000.000000</td>\n",
       "      <td>1000000.000000</td>\n",
       "      <td>1000000.000000</td>\n",
       "    </tr>\n",
       "    <tr>\n",
       "      <th>mean</th>\n",
       "      <td>0.881536</td>\n",
       "      <td>0.350399</td>\n",
       "      <td>0.100608</td>\n",
       "      <td>0.650552</td>\n",
       "      <td>0.087403</td>\n",
       "    </tr>\n",
       "    <tr>\n",
       "      <th>std</th>\n",
       "      <td>0.323157</td>\n",
       "      <td>0.477095</td>\n",
       "      <td>0.300809</td>\n",
       "      <td>0.476796</td>\n",
       "      <td>0.282425</td>\n",
       "    </tr>\n",
       "    <tr>\n",
       "      <th>min</th>\n",
       "      <td>0.000000</td>\n",
       "      <td>0.000000</td>\n",
       "      <td>0.000000</td>\n",
       "      <td>0.000000</td>\n",
       "      <td>0.000000</td>\n",
       "    </tr>\n",
       "    <tr>\n",
       "      <th>25%</th>\n",
       "      <td>1.000000</td>\n",
       "      <td>0.000000</td>\n",
       "      <td>0.000000</td>\n",
       "      <td>0.000000</td>\n",
       "      <td>0.000000</td>\n",
       "    </tr>\n",
       "    <tr>\n",
       "      <th>50%</th>\n",
       "      <td>1.000000</td>\n",
       "      <td>0.000000</td>\n",
       "      <td>0.000000</td>\n",
       "      <td>1.000000</td>\n",
       "      <td>0.000000</td>\n",
       "    </tr>\n",
       "    <tr>\n",
       "      <th>75%</th>\n",
       "      <td>1.000000</td>\n",
       "      <td>1.000000</td>\n",
       "      <td>0.000000</td>\n",
       "      <td>1.000000</td>\n",
       "      <td>0.000000</td>\n",
       "    </tr>\n",
       "    <tr>\n",
       "      <th>max</th>\n",
       "      <td>1.000000</td>\n",
       "      <td>1.000000</td>\n",
       "      <td>1.000000</td>\n",
       "      <td>1.000000</td>\n",
       "      <td>1.000000</td>\n",
       "    </tr>\n",
       "  </tbody>\n",
       "</table>\n",
       "</div>"
      ],
      "text/plain": [
       "       repeat_retailer       used_chip  used_pin_number    online_order  \\\n",
       "count   1000000.000000  1000000.000000   1000000.000000  1000000.000000   \n",
       "mean          0.881536        0.350399         0.100608        0.650552   \n",
       "std           0.323157        0.477095         0.300809        0.476796   \n",
       "min           0.000000        0.000000         0.000000        0.000000   \n",
       "25%           1.000000        0.000000         0.000000        0.000000   \n",
       "50%           1.000000        0.000000         0.000000        1.000000   \n",
       "75%           1.000000        1.000000         0.000000        1.000000   \n",
       "max           1.000000        1.000000         1.000000        1.000000   \n",
       "\n",
       "                fraud  \n",
       "count  1000000.000000  \n",
       "mean         0.087403  \n",
       "std          0.282425  \n",
       "min          0.000000  \n",
       "25%          0.000000  \n",
       "50%          0.000000  \n",
       "75%          0.000000  \n",
       "max          1.000000  "
      ]
     },
     "execution_count": 10,
     "metadata": {},
     "output_type": "execute_result"
    }
   ],
   "source": [
    "# Estatísticas das variáveis categóricas\n",
    "df.drop(columns=numerical, axis = 1).describe()"
   ]
  },
  {
   "cell_type": "code",
   "execution_count": 11,
   "metadata": {},
   "outputs": [
    {
     "name": "stdout",
     "output_type": "stream",
     "text": [
      "Coluna: repeat_retailer\n",
      "Não: 11.85%\n",
      "Sim: 88.15%\n"
     ]
    },
    {
     "data": {
      "image/png": "[encoded data removed]",
      "text/plain": [
       "<Figure size 432x288 with 1 Axes>"
      ]
     },
     "metadata": {
      "needs_background": "light"
     },
     "output_type": "display_data"
    },
    {
     "name": "stdout",
     "output_type": "stream",
     "text": [
      "Coluna: used_chip\n",
      "Não: 64.96%\n",
      "Sim: 35.04%\n"
     ]
    },
    {
     "data": {
      "image/png": "[encoded data removed]",
      "text/plain": [
       "<Figure size 432x288 with 1 Axes>"
      ]
     },
     "metadata": {
      "needs_background": "light"
     },
     "output_type": "display_data"
    },
    {
     "name": "stdout",
     "output_type": "stream",
     "text": [
      "Coluna: used_pin_number\n",
      "Não: 89.94%\n",
      "Sim: 10.06%\n"
     ]
    },
    {
     "data": {
      "image/png": "[encoded data removed]",
      "text/plain": [
       "<Figure size 432x288 with 1 Axes>"
      ]
     },
     "metadata": {
      "needs_background": "light"
     },
     "output_type": "display_data"
    },
    {
     "name": "stdout",
     "output_type": "stream",
     "text": [
      "Coluna: online_order\n",
      "Não: 34.94%\n",
      "Sim: 65.06%\n"
     ]
    },
    {
     "data": {
      "image/png": "[encoded data removed]",
      "text/plain": [
       "<Figure size 432x288 with 1 Axes>"
      ]
     },
     "metadata": {
      "needs_background": "light"
     },
     "output_type": "display_data"
    },
    {
     "name": "stdout",
     "output_type": "stream",
     "text": [
      "Coluna: fraud\n",
      "Não: 91.26%\n",
      "Sim: 8.74%\n"
     ]
    },
    {
     "data": {
      "image/png": "[encoded data removed]",
      "text/plain": [
       "<Figure size 432x288 with 1 Axes>"
      ]
     },
     "metadata": {
      "needs_background": "light"
     },
     "output_type": "display_data"
    }
   ],
   "source": [
    "# Exibindo quantidade de fraude por variável categórica\n",
    "for i in categorical:\n",
    "    valores_1 = (len(df[i].loc[df[i] == 1]) / df.shape[0]) * 100\n",
    "    valores_0 = 100 - valores_1\n",
    "    print(f'Coluna: {i}\\nNão: {round(valores_0, 2)}%\\nSim: {round(valores_1, 2)}%')\n",
    "    sns.countplot(data = df, x = i, hue = df['fraud'])\n",
    "    plt.show()"
   ]
  },
  {
   "cell_type": "code",
   "execution_count": null,
   "metadata": {},
   "outputs": [],
   "source": []
  },
  {
   "cell_type": "markdown",
   "metadata": {},
   "source": [
    "# Cleaning data"
   ]
  },
  {
   "cell_type": "code",
   "execution_count": 12,
   "metadata": {},
   "outputs": [
    {
     "data": {
      "text/plain": [
       "distance_from_home                0\n",
       "distance_from_last_transaction    0\n",
       "ratio_to_median_purchase_price    0\n",
       "repeat_retailer                   0\n",
       "used_chip                         0\n",
       "used_pin_number                   0\n",
       "online_order                      0\n",
       "fraud                             0\n",
       "dtype: int64"
      ]
     },
     "execution_count": 12,
     "metadata": {},
     "output_type": "execute_result"
    }
   ],
   "source": [
    "df.isnull().sum()"
   ]
  },
  {
   "cell_type": "markdown",
   "metadata": {},
   "source": [
    "# Preprocessing"
   ]
  },
  {
   "cell_type": "code",
   "execution_count": 12,
   "metadata": {},
   "outputs": [
    {
     "data": {
      "text/html": [
       "<div>\n",
       "<style scoped>\n",
       "    .dataframe tbody tr th:only-of-type {\n",
       "        vertical-align: middle;\n",
       "    }\n",
       "\n",
       "    .dataframe tbody tr th {\n",
       "        vertical-align: top;\n",
       "    }\n",
       "\n",
       "    .dataframe thead th {\n",
       "        text-align: right;\n",
       "    }\n",
       "</style>\n",
       "<table border=\"1\" class=\"dataframe\">\n",
       "  <thead>\n",
       "    <tr style=\"text-align: right;\">\n",
       "      <th></th>\n",
       "      <th>distance_from_home</th>\n",
       "      <th>distance_from_last_transaction</th>\n",
       "      <th>ratio_to_median_purchase_price</th>\n",
       "      <th>repeat_retailer</th>\n",
       "      <th>used_chip</th>\n",
       "      <th>used_pin_number</th>\n",
       "      <th>online_order</th>\n",
       "      <th>fraud</th>\n",
       "    </tr>\n",
       "  </thead>\n",
       "  <tbody>\n",
       "    <tr>\n",
       "      <th>0</th>\n",
       "      <td>57.877857</td>\n",
       "      <td>0.311140</td>\n",
       "      <td>1.945940</td>\n",
       "      <td>1.0</td>\n",
       "      <td>1.0</td>\n",
       "      <td>0.0</td>\n",
       "      <td>0.0</td>\n",
       "      <td>0.0</td>\n",
       "    </tr>\n",
       "    <tr>\n",
       "      <th>1</th>\n",
       "      <td>10.829943</td>\n",
       "      <td>0.175592</td>\n",
       "      <td>1.294219</td>\n",
       "      <td>1.0</td>\n",
       "      <td>0.0</td>\n",
       "      <td>0.0</td>\n",
       "      <td>0.0</td>\n",
       "      <td>0.0</td>\n",
       "    </tr>\n",
       "    <tr>\n",
       "      <th>2</th>\n",
       "      <td>5.091079</td>\n",
       "      <td>0.805153</td>\n",
       "      <td>0.427715</td>\n",
       "      <td>1.0</td>\n",
       "      <td>0.0</td>\n",
       "      <td>0.0</td>\n",
       "      <td>1.0</td>\n",
       "      <td>0.0</td>\n",
       "    </tr>\n",
       "    <tr>\n",
       "      <th>3</th>\n",
       "      <td>2.247564</td>\n",
       "      <td>5.600044</td>\n",
       "      <td>0.362663</td>\n",
       "      <td>1.0</td>\n",
       "      <td>1.0</td>\n",
       "      <td>0.0</td>\n",
       "      <td>1.0</td>\n",
       "      <td>0.0</td>\n",
       "    </tr>\n",
       "    <tr>\n",
       "      <th>4</th>\n",
       "      <td>44.190936</td>\n",
       "      <td>0.566486</td>\n",
       "      <td>2.222767</td>\n",
       "      <td>1.0</td>\n",
       "      <td>1.0</td>\n",
       "      <td>0.0</td>\n",
       "      <td>1.0</td>\n",
       "      <td>0.0</td>\n",
       "    </tr>\n",
       "  </tbody>\n",
       "</table>\n",
       "</div>"
      ],
      "text/plain": [
       "   distance_from_home  distance_from_last_transaction  \\\n",
       "0           57.877857                        0.311140   \n",
       "1           10.829943                        0.175592   \n",
       "2            5.091079                        0.805153   \n",
       "3            2.247564                        5.600044   \n",
       "4           44.190936                        0.566486   \n",
       "\n",
       "   ratio_to_median_purchase_price  repeat_retailer  used_chip  \\\n",
       "0                        1.945940              1.0        1.0   \n",
       "1                        1.294219              1.0        0.0   \n",
       "2                        0.427715              1.0        0.0   \n",
       "3                        0.362663              1.0        1.0   \n",
       "4                        2.222767              1.0        1.0   \n",
       "\n",
       "   used_pin_number  online_order  fraud  \n",
       "0              0.0           0.0    0.0  \n",
       "1              0.0           0.0    0.0  \n",
       "2              0.0           1.0    0.0  \n",
       "3              0.0           1.0    0.0  \n",
       "4              0.0           1.0    0.0  "
      ]
     },
     "execution_count": 12,
     "metadata": {},
     "output_type": "execute_result"
    }
   ],
   "source": [
    "df.head()"
   ]
  },
  {
   "cell_type": "code",
   "execution_count": 18,
   "metadata": {},
   "outputs": [],
   "source": [
    "df2 = df.copy()"
   ]
  },
  {
   "cell_type": "code",
   "execution_count": 19,
   "metadata": {},
   "outputs": [],
   "source": [
    "# Separando os dados em previsores e alvo\n",
    "x = df2.drop(\"fraud\", axis = 1)\n",
    "y = df2[['fraud']]"
   ]
  },
  {
   "cell_type": "code",
   "execution_count": 15,
   "metadata": {},
   "outputs": [
    {
     "data": {
      "text/html": [
       "<div>\n",
       "<style scoped>\n",
       "    .dataframe tbody tr th:only-of-type {\n",
       "        vertical-align: middle;\n",
       "    }\n",
       "\n",
       "    .dataframe tbody tr th {\n",
       "        vertical-align: top;\n",
       "    }\n",
       "\n",
       "    .dataframe thead th {\n",
       "        text-align: right;\n",
       "    }\n",
       "</style>\n",
       "<table border=\"1\" class=\"dataframe\">\n",
       "  <thead>\n",
       "    <tr style=\"text-align: right;\">\n",
       "      <th></th>\n",
       "      <th>distance_from_home</th>\n",
       "      <th>distance_from_last_transaction</th>\n",
       "      <th>ratio_to_median_purchase_price</th>\n",
       "      <th>repeat_retailer</th>\n",
       "      <th>used_chip</th>\n",
       "      <th>used_pin_number</th>\n",
       "      <th>online_order</th>\n",
       "    </tr>\n",
       "  </thead>\n",
       "  <tbody>\n",
       "    <tr>\n",
       "      <th>0</th>\n",
       "      <td>57.877857</td>\n",
       "      <td>0.311140</td>\n",
       "      <td>1.945940</td>\n",
       "      <td>1.0</td>\n",
       "      <td>1.0</td>\n",
       "      <td>0.0</td>\n",
       "      <td>0.0</td>\n",
       "    </tr>\n",
       "    <tr>\n",
       "      <th>1</th>\n",
       "      <td>10.829943</td>\n",
       "      <td>0.175592</td>\n",
       "      <td>1.294219</td>\n",
       "      <td>1.0</td>\n",
       "      <td>0.0</td>\n",
       "      <td>0.0</td>\n",
       "      <td>0.0</td>\n",
       "    </tr>\n",
       "    <tr>\n",
       "      <th>2</th>\n",
       "      <td>5.091079</td>\n",
       "      <td>0.805153</td>\n",
       "      <td>0.427715</td>\n",
       "      <td>1.0</td>\n",
       "      <td>0.0</td>\n",
       "      <td>0.0</td>\n",
       "      <td>1.0</td>\n",
       "    </tr>\n",
       "    <tr>\n",
       "      <th>3</th>\n",
       "      <td>2.247564</td>\n",
       "      <td>5.600044</td>\n",
       "      <td>0.362663</td>\n",
       "      <td>1.0</td>\n",
       "      <td>1.0</td>\n",
       "      <td>0.0</td>\n",
       "      <td>1.0</td>\n",
       "    </tr>\n",
       "    <tr>\n",
       "      <th>4</th>\n",
       "      <td>44.190936</td>\n",
       "      <td>0.566486</td>\n",
       "      <td>2.222767</td>\n",
       "      <td>1.0</td>\n",
       "      <td>1.0</td>\n",
       "      <td>0.0</td>\n",
       "      <td>1.0</td>\n",
       "    </tr>\n",
       "  </tbody>\n",
       "</table>\n",
       "</div>"
      ],
      "text/plain": [
       "   distance_from_home  distance_from_last_transaction  \\\n",
       "0           57.877857                        0.311140   \n",
       "1           10.829943                        0.175592   \n",
       "2            5.091079                        0.805153   \n",
       "3            2.247564                        5.600044   \n",
       "4           44.190936                        0.566486   \n",
       "\n",
       "   ratio_to_median_purchase_price  repeat_retailer  used_chip  \\\n",
       "0                        1.945940              1.0        1.0   \n",
       "1                        1.294219              1.0        0.0   \n",
       "2                        0.427715              1.0        0.0   \n",
       "3                        0.362663              1.0        1.0   \n",
       "4                        2.222767              1.0        1.0   \n",
       "\n",
       "   used_pin_number  online_order  \n",
       "0              0.0           0.0  \n",
       "1              0.0           0.0  \n",
       "2              0.0           1.0  \n",
       "3              0.0           1.0  \n",
       "4              0.0           1.0  "
      ]
     },
     "execution_count": 15,
     "metadata": {},
     "output_type": "execute_result"
    }
   ],
   "source": [
    "x.head()"
   ]
  },
  {
   "cell_type": "code",
   "execution_count": 16,
   "metadata": {},
   "outputs": [
    {
     "data": {
      "text/html": [
       "<div>\n",
       "<style scoped>\n",
       "    .dataframe tbody tr th:only-of-type {\n",
       "        vertical-align: middle;\n",
       "    }\n",
       "\n",
       "    .dataframe tbody tr th {\n",
       "        vertical-align: top;\n",
       "    }\n",
       "\n",
       "    .dataframe thead th {\n",
       "        text-align: right;\n",
       "    }\n",
       "</style>\n",
       "<table border=\"1\" class=\"dataframe\">\n",
       "  <thead>\n",
       "    <tr style=\"text-align: right;\">\n",
       "      <th></th>\n",
       "      <th>fraud</th>\n",
       "    </tr>\n",
       "  </thead>\n",
       "  <tbody>\n",
       "    <tr>\n",
       "      <th>0</th>\n",
       "      <td>0.0</td>\n",
       "    </tr>\n",
       "    <tr>\n",
       "      <th>1</th>\n",
       "      <td>0.0</td>\n",
       "    </tr>\n",
       "    <tr>\n",
       "      <th>2</th>\n",
       "      <td>0.0</td>\n",
       "    </tr>\n",
       "    <tr>\n",
       "      <th>3</th>\n",
       "      <td>0.0</td>\n",
       "    </tr>\n",
       "    <tr>\n",
       "      <th>4</th>\n",
       "      <td>0.0</td>\n",
       "    </tr>\n",
       "  </tbody>\n",
       "</table>\n",
       "</div>"
      ],
      "text/plain": [
       "   fraud\n",
       "0    0.0\n",
       "1    0.0\n",
       "2    0.0\n",
       "3    0.0\n",
       "4    0.0"
      ]
     },
     "execution_count": 16,
     "metadata": {},
     "output_type": "execute_result"
    }
   ],
   "source": [
    "y.head()"
   ]
  },
  {
   "cell_type": "code",
   "execution_count": 21,
   "metadata": {},
   "outputs": [],
   "source": [
    "x_train, x_test, y_train, y_test = train_test_split(x, y, random_state= 1)"
   ]
  },
  {
   "cell_type": "code",
   "execution_count": 22,
   "metadata": {},
   "outputs": [
    {
     "data": {
      "text/plain": [
       "((750000, 7), (750000, 1))"
      ]
     },
     "execution_count": 22,
     "metadata": {},
     "output_type": "execute_result"
    }
   ],
   "source": [
    "x_train.shape, y_train.shape"
   ]
  },
  {
   "cell_type": "code",
   "execution_count": 23,
   "metadata": {},
   "outputs": [],
   "source": [
    "# Normalizando os dados de treino e transformando os dados de teste\n",
    "features = x_train.columns.to_list()\n",
    "target = y_train.columns.to_list()\n",
    "\n",
    "scaler = MinMaxScaler()\n",
    "x_train = scaler.fit_transform(x_train)\n",
    "x_test = scaler.transform(x_test)\n",
    "\n",
    "y_train = scaler.fit_transform(y_train)\n",
    "y_test = scaler.transform(y_test)"
   ]
  },
  {
   "cell_type": "markdown",
   "metadata": {},
   "source": [
    "# Treinando os modelos"
   ]
  },
  {
   "cell_type": "markdown",
   "metadata": {},
   "source": [
    "A avaliação do modelo é feita com uma matriz de confusão, que nos mostra a quantidade de erros e acertos do modelo.\n",
    "* Recall --> Falso negativo, preveu erroneamente uma transação normal\n",
    "* Precisão --> Falso positivo, preveu erroneamente uma transação fraudada\n",
    "<div> <b> Valores maiores de Recall e Precisão indicam que o modelo comete poucos erros. </b></div>\n"
   ]
  },
  {
   "cell_type": "code",
   "execution_count": null,
   "metadata": {},
   "outputs": [],
   "source": []
  },
  {
   "cell_type": "markdown",
   "metadata": {},
   "source": [
    "## Naive Bayes"
   ]
  },
  {
   "cell_type": "code",
   "execution_count": 20,
   "metadata": {},
   "outputs": [],
   "source": [
    "from sklearn.naive_bayes import GaussianNB"
   ]
  },
  {
   "cell_type": "code",
   "execution_count": 21,
   "metadata": {},
   "outputs": [],
   "source": [
    "nb = GaussianNB()\n",
    "nb.fit(x_train, y_train.ravel())\n",
    "nb_pred = nb.predict(x_test)"
   ]
  },
  {
   "cell_type": "code",
   "execution_count": 22,
   "metadata": {},
   "outputs": [
    {
     "name": "stdout",
     "output_type": "stream",
     "text": [
      "              precision    recall  f1-score   support\n",
      "\n",
      "         0.0       0.96      0.99      0.97    228077\n",
      "         1.0       0.79      0.60      0.68     21923\n",
      "\n",
      "    accuracy                           0.95    250000\n",
      "   macro avg       0.88      0.79      0.83    250000\n",
      "weighted avg       0.95      0.95      0.95    250000\n",
      "\n"
     ]
    },
    {
     "data": {
      "image/png": "[encoded data removed]",
      "text/plain": [
       "<Figure size 432x288 with 2 Axes>"
      ]
     },
     "metadata": {
      "needs_background": "light"
     },
     "output_type": "display_data"
    }
   ],
   "source": [
    "# Avaliando o modelo\n",
    "print(classification_report(y_test, nb_pred))\n",
    "matrix = confusion_matrix(y_test, nb_pred)\n",
    "ConfusionMatrixDisplay(matrix).plot()\n",
    "plt.show()"
   ]
  },
  {
   "cell_type": "markdown",
   "metadata": {},
   "source": [
    "## SVM"
   ]
  },
  {
   "cell_type": "code",
   "execution_count": 23,
   "metadata": {},
   "outputs": [],
   "source": [
    "from sklearn.svm import SVC, LinearSVC"
   ]
  },
  {
   "cell_type": "code",
   "execution_count": 24,
   "metadata": {},
   "outputs": [],
   "source": [
    "svm = LinearSVC(random_state = 1)\n",
    "svm.fit(x_train, y_train.ravel())\n",
    "svm_pred = svm.predict(x_test)"
   ]
  },
  {
   "cell_type": "code",
   "execution_count": 25,
   "metadata": {},
   "outputs": [
    {
     "name": "stdout",
     "output_type": "stream",
     "text": [
      "              precision    recall  f1-score   support\n",
      "\n",
      "         0.0       0.94      1.00      0.97    228077\n",
      "         1.0       0.90      0.38      0.54     21923\n",
      "\n",
      "    accuracy                           0.94    250000\n",
      "   macro avg       0.92      0.69      0.75    250000\n",
      "weighted avg       0.94      0.94      0.93    250000\n",
      "\n"
     ]
    },
    {
     "data": {
      "image/png": "[encoded data removed]",
      "text/plain": [
       "<Figure size 432x288 with 2 Axes>"
      ]
     },
     "metadata": {
      "needs_background": "light"
     },
     "output_type": "display_data"
    }
   ],
   "source": [
    "# Avaliando o modelo\n",
    "print(classification_report(y_test, svm_pred))\n",
    "ConfusionMatrixDisplay(confusion_matrix(y_test, svm_pred)).plot()\n",
    "plt.show()"
   ]
  },
  {
   "cell_type": "code",
   "execution_count": null,
   "metadata": {},
   "outputs": [],
   "source": []
  },
  {
   "cell_type": "markdown",
   "metadata": {},
   "source": [
    "## Logistic regression"
   ]
  },
  {
   "cell_type": "code",
   "execution_count": 26,
   "metadata": {},
   "outputs": [],
   "source": [
    "from sklearn.linear_model import LogisticRegression"
   ]
  },
  {
   "cell_type": "code",
   "execution_count": 27,
   "metadata": {},
   "outputs": [],
   "source": [
    "lr = LogisticRegression(random_state=1, max_iter = 500)\n",
    "lr.fit(x_train, y_train.ravel())\n",
    "lr_pred = lr.predict(x_test)"
   ]
  },
  {
   "cell_type": "code",
   "execution_count": 28,
   "metadata": {},
   "outputs": [
    {
     "name": "stdout",
     "output_type": "stream",
     "text": [
      "              precision    recall  f1-score   support\n",
      "\n",
      "         0.0       0.95      1.00      0.97    228077\n",
      "         1.0       0.91      0.40      0.56     21923\n",
      "\n",
      "    accuracy                           0.94    250000\n",
      "   macro avg       0.93      0.70      0.76    250000\n",
      "weighted avg       0.94      0.94      0.93    250000\n",
      "\n"
     ]
    },
    {
     "data": {
      "image/png": "[encoded data removed]",
      "text/plain": [
       "<Figure size 432x288 with 2 Axes>"
      ]
     },
     "metadata": {
      "needs_background": "light"
     },
     "output_type": "display_data"
    }
   ],
   "source": [
    "# Avaliando o modelo\n",
    "print(classification_report(y_test, lr_pred))\n",
    "ConfusionMatrixDisplay(confusion_matrix(y_test, lr_pred)).plot()\n",
    "plt.show()"
   ]
  },
  {
   "cell_type": "markdown",
   "metadata": {},
   "source": [
    "## KNN"
   ]
  },
  {
   "cell_type": "code",
   "execution_count": 29,
   "metadata": {},
   "outputs": [],
   "source": [
    "from sklearn.neighbors import KNeighborsClassifier"
   ]
  },
  {
   "cell_type": "code",
   "execution_count": 32,
   "metadata": {},
   "outputs": [],
   "source": [
    "knn = KNeighborsClassifier()\n",
    "knn.fit(x_train, y_train.ravel())\n",
    "knn_pred = knn.predict(x_test)"
   ]
  },
  {
   "cell_type": "code",
   "execution_count": 33,
   "metadata": {},
   "outputs": [
    {
     "name": "stdout",
     "output_type": "stream",
     "text": [
      "              precision    recall  f1-score   support\n",
      "\n",
      "         0.0       1.00      1.00      1.00    228077\n",
      "         1.0       1.00      0.99      0.99     21923\n",
      "\n",
      "    accuracy                           1.00    250000\n",
      "   macro avg       1.00      1.00      1.00    250000\n",
      "weighted avg       1.00      1.00      1.00    250000\n",
      "\n"
     ]
    },
    {
     "data": {
      "image/png": "[encoded data removed]",
      "text/plain": [
       "<Figure size 432x288 with 2 Axes>"
      ]
     },
     "metadata": {
      "needs_background": "light"
     },
     "output_type": "display_data"
    }
   ],
   "source": [
    "print(classification_report(y_test, knn_pred))\n",
    "ConfusionMatrixDisplay(confusion_matrix(y_test, knn_pred)).plot()\n",
    "plt.show()"
   ]
  },
  {
   "cell_type": "code",
   "execution_count": null,
   "metadata": {},
   "outputs": [],
   "source": []
  },
  {
   "cell_type": "markdown",
   "metadata": {},
   "source": [
    "## Desicion tree"
   ]
  },
  {
   "cell_type": "code",
   "execution_count": 34,
   "metadata": {},
   "outputs": [],
   "source": [
    "from sklearn.tree import DecisionTreeClassifier"
   ]
  },
  {
   "cell_type": "code",
   "execution_count": 35,
   "metadata": {},
   "outputs": [],
   "source": [
    "dt = DecisionTreeClassifier(criterion = 'entropy', random_state = 1)\n",
    "dt.fit(x_train, y_train.ravel())\n",
    "dt_pred = dt.predict(x_test)"
   ]
  },
  {
   "cell_type": "code",
   "execution_count": 36,
   "metadata": {},
   "outputs": [
    {
     "name": "stdout",
     "output_type": "stream",
     "text": [
      "              precision    recall  f1-score   support\n",
      "\n",
      "         0.0       1.00      1.00      1.00    228077\n",
      "         1.0       1.00      1.00      1.00     21923\n",
      "\n",
      "    accuracy                           1.00    250000\n",
      "   macro avg       1.00      1.00      1.00    250000\n",
      "weighted avg       1.00      1.00      1.00    250000\n",
      "\n"
     ]
    },
    {
     "data": {
      "image/png": "[encoded data removed]",
      "text/plain": [
       "<Figure size 432x288 with 2 Axes>"
      ]
     },
     "metadata": {
      "needs_background": "light"
     },
     "output_type": "display_data"
    }
   ],
   "source": [
    "# Avaliando o modelo\n",
    "print(classification_report(y_test, dt_pred))\n",
    "ConfusionMatrixDisplay(confusion_matrix(y_test, dt_pred)).plot()\n",
    "plt.show()"
   ]
  },
  {
   "cell_type": "code",
   "execution_count": null,
   "metadata": {},
   "outputs": [],
   "source": []
  },
  {
   "cell_type": "markdown",
   "metadata": {},
   "source": [
    "## Random Forest"
   ]
  },
  {
   "cell_type": "code",
   "execution_count": 37,
   "metadata": {},
   "outputs": [],
   "source": [
    "from sklearn.ensemble import RandomForestClassifier"
   ]
  },
  {
   "cell_type": "code",
   "execution_count": 38,
   "metadata": {},
   "outputs": [],
   "source": [
    "rf = RandomForestClassifier(criterion = 'entropy' ,random_state = 1)\n",
    "rf.fit(x_train, y_train.ravel())\n",
    "rf_pred = rf.predict(x_test)"
   ]
  },
  {
   "cell_type": "code",
   "execution_count": 39,
   "metadata": {},
   "outputs": [
    {
     "name": "stdout",
     "output_type": "stream",
     "text": [
      "              precision    recall  f1-score   support\n",
      "\n",
      "         0.0       1.00      1.00      1.00    228077\n",
      "         1.0       1.00      1.00      1.00     21923\n",
      "\n",
      "    accuracy                           1.00    250000\n",
      "   macro avg       1.00      1.00      1.00    250000\n",
      "weighted avg       1.00      1.00      1.00    250000\n",
      "\n"
     ]
    },
    {
     "data": {
      "image/png": "[encoded data removed]",
      "text/plain": [
       "<Figure size 432x288 with 2 Axes>"
      ]
     },
     "metadata": {
      "needs_background": "light"
     },
     "output_type": "display_data"
    }
   ],
   "source": [
    "# Avaliando o modelo\n",
    "print(classification_report(y_test, rf_pred))\n",
    "ConfusionMatrixDisplay(confusion_matrix(y_test, rf_pred)).plot()\n",
    "plt.show()"
   ]
  },
  {
   "cell_type": "code",
   "execution_count": null,
   "metadata": {},
   "outputs": [],
   "source": []
  },
  {
   "cell_type": "markdown",
   "metadata": {},
   "source": [
    "## Extreme Gradient Boosting (XGBoost)"
   ]
  },
  {
   "cell_type": "code",
   "execution_count": 34,
   "metadata": {},
   "outputs": [
    {
     "name": "stdout",
     "output_type": "stream",
     "text": [
      "Collecting xgboostNote: you may need to restart the kernel to use updated packages.\n",
      "\n",
      "  Downloading xgboost-1.6.1-py3-none-win_amd64.whl (125.4 MB)\n",
      "Requirement already satisfied: numpy in c:\\users\\lucas\\anaconda3\\lib\\site-packages (from xgboost) (1.22.3)\n",
      "Requirement already satisfied: scipy in c:\\users\\lucas\\anaconda3\\lib\\site-packages (from xgboost) (1.5.2)\n",
      "Installing collected packages: xgboost\n",
      "Successfully installed xgboost-1.6.1\n"
     ]
    }
   ],
   "source": [
    "# pip install xgboost"
   ]
  },
  {
   "cell_type": "code",
   "execution_count": 40,
   "metadata": {},
   "outputs": [],
   "source": [
    "from xgboost import XGBClassifier"
   ]
  },
  {
   "cell_type": "code",
   "execution_count": 41,
   "metadata": {},
   "outputs": [],
   "source": [
    "xgb = XGBClassifier(random_state = 1)\n",
    "xgb.fit(x_train, y_train.ravel())\n",
    "xgb_pred = xgb.predict(x_test)"
   ]
  },
  {
   "cell_type": "code",
   "execution_count": 42,
   "metadata": {},
   "outputs": [
    {
     "name": "stdout",
     "output_type": "stream",
     "text": [
      "              precision    recall  f1-score   support\n",
      "\n",
      "         0.0       1.00      1.00      1.00    228077\n",
      "         1.0       1.00      1.00      1.00     21923\n",
      "\n",
      "    accuracy                           1.00    250000\n",
      "   macro avg       1.00      1.00      1.00    250000\n",
      "weighted avg       1.00      1.00      1.00    250000\n",
      "\n"
     ]
    },
    {
     "data": {
      "image/png": "[encoded data removed]",
      "text/plain": [
       "<Figure size 432x288 with 2 Axes>"
      ]
     },
     "metadata": {
      "needs_background": "light"
     },
     "output_type": "display_data"
    }
   ],
   "source": [
    "print(classification_report(y_test, xgb_pred))\n",
    "ConfusionMatrixDisplay(confusion_matrix(y_test, xgb_pred)).plot()\n",
    "plt.show()"
   ]
  },
  {
   "cell_type": "code",
   "execution_count": null,
   "metadata": {},
   "outputs": [],
   "source": []
  },
  {
   "cell_type": "markdown",
   "metadata": {},
   "source": [
    "## Light Gradient Boosting Machine (Light GBM)"
   ]
  },
  {
   "cell_type": "code",
   "execution_count": 43,
   "metadata": {},
   "outputs": [],
   "source": [
    "from lightgbm import LGBMClassifier"
   ]
  },
  {
   "cell_type": "code",
   "execution_count": 44,
   "metadata": {},
   "outputs": [],
   "source": [
    "lgbm = LGBMClassifier(random_state = 1)\n",
    "lgbm.fit(x_train, y_train.ravel())\n",
    "lgbm_pred = lgbm.predict(x_test)"
   ]
  },
  {
   "cell_type": "code",
   "execution_count": 45,
   "metadata": {},
   "outputs": [
    {
     "name": "stdout",
     "output_type": "stream",
     "text": [
      "              precision    recall  f1-score   support\n",
      "\n",
      "         0.0       1.00      1.00      1.00    228077\n",
      "         1.0       0.99      0.99      0.99     21923\n",
      "\n",
      "    accuracy                           1.00    250000\n",
      "   macro avg       0.99      0.99      0.99    250000\n",
      "weighted avg       1.00      1.00      1.00    250000\n",
      "\n"
     ]
    },
    {
     "data": {
      "image/png": "[encoded data removed]",
      "text/plain": [
       "<Figure size 432x288 with 2 Axes>"
      ]
     },
     "metadata": {
      "needs_background": "light"
     },
     "output_type": "display_data"
    }
   ],
   "source": [
    "print(classification_report(y_test, lgbm_pred))\n",
    "ConfusionMatrixDisplay(confusion_matrix(y_test, lgbm_pred)).plot()\n",
    "plt.show()"
   ]
  },
  {
   "cell_type": "code",
   "execution_count": null,
   "metadata": {},
   "outputs": [],
   "source": []
  },
  {
   "cell_type": "markdown",
   "metadata": {},
   "source": [
    "## Cat Boost"
   ]
  },
  {
   "cell_type": "code",
   "execution_count": 56,
   "metadata": {},
   "outputs": [
    {
     "name": "stdout",
     "output_type": "stream",
     "text": [
      "Collecting catboostNote: you may need to restart the kernel to use updated packages.\n",
      "\n",
      "  Downloading catboost-1.0.6-cp38-none-win_amd64.whl (73.9 MB)\n",
      "Requirement already satisfied: numpy>=1.16.0 in c:\\users\\lucas\\anaconda3\\lib\\site-packages (from catboost) (1.22.3)\n",
      "Requirement already satisfied: graphviz in c:\\users\\lucas\\anaconda3\\lib\\site-packages (from catboost) (0.19.1)\n",
      "Requirement already satisfied: six in c:\\users\\lucas\\anaconda3\\lib\\site-packages (from catboost) (1.15.0)\n",
      "Requirement already satisfied: pandas>=0.24.0 in c:\\users\\lucas\\anaconda3\\lib\\site-packages (from catboost) (1.1.3)\n",
      "Requirement already satisfied: matplotlib in c:\\users\\lucas\\anaconda3\\lib\\site-packages (from catboost) (3.3.2)\n",
      "Requirement already satisfied: plotly in c:\\users\\lucas\\appdata\\roaming\\python\\python38\\site-packages (from catboost) (5.6.0)\n",
      "Requirement already satisfied: scipy in c:\\users\\lucas\\anaconda3\\lib\\site-packages (from catboost) (1.5.2)\n",
      "Requirement already satisfied: python-dateutil>=2.7.3 in c:\\users\\lucas\\anaconda3\\lib\\site-packages (from pandas>=0.24.0->catboost) (2.8.1)\n",
      "Requirement already satisfied: pytz>=2017.2 in c:\\users\\lucas\\anaconda3\\lib\\site-packages (from pandas>=0.24.0->catboost) (2020.1)\n",
      "Requirement already satisfied: pillow>=6.2.0 in c:\\users\\lucas\\anaconda3\\lib\\site-packages (from matplotlib->catboost) (8.0.1)\n",
      "Requirement already satisfied: kiwisolver>=1.0.1 in c:\\users\\lucas\\anaconda3\\lib\\site-packages (from matplotlib->catboost) (1.3.0)\n",
      "Requirement already satisfied: pyparsing!=2.0.4,!=2.1.2,!=2.1.6,>=2.0.3 in c:\\users\\lucas\\anaconda3\\lib\\site-packages (from matplotlib->catboost) (2.4.7)\n",
      "Requirement already satisfied: cycler>=0.10 in c:\\users\\lucas\\anaconda3\\lib\\site-packages (from matplotlib->catboost) (0.10.0)\n",
      "Requirement already satisfied: certifi>=2020.06.20 in c:\\users\\lucas\\anaconda3\\lib\\site-packages (from matplotlib->catboost) (2020.6.20)\n",
      "Requirement already satisfied: tenacity>=6.2.0 in c:\\users\\lucas\\appdata\\roaming\\python\\python38\\site-packages (from plotly->catboost) (8.0.1)\n",
      "Installing collected packages: catboost\n",
      "Successfully installed catboost-1.0.6\n"
     ]
    }
   ],
   "source": [
    "# pip install catboost"
   ]
  },
  {
   "cell_type": "code",
   "execution_count": 46,
   "metadata": {},
   "outputs": [],
   "source": [
    "from catboost import CatBoostClassifier"
   ]
  },
  {
   "cell_type": "code",
   "execution_count": 53,
   "metadata": {},
   "outputs": [
    {
     "name": "stdout",
     "output_type": "stream",
     "text": [
      "Learning rate set to 0.5\n",
      "0:\tlearn: 0.0409534\ttotal: 136ms\tremaining: 40.5s\n",
      "1:\tlearn: 0.0166195\ttotal: 264ms\tremaining: 39.3s\n",
      "2:\tlearn: 0.0086537\ttotal: 612ms\tremaining: 1m\n",
      "3:\tlearn: 0.0043588\ttotal: 977ms\tremaining: 1m 12s\n",
      "4:\tlearn: 0.0039370\ttotal: 1.47s\tremaining: 1m 26s\n",
      "5:\tlearn: 0.0034766\ttotal: 1.9s\tremaining: 1m 33s\n",
      "6:\tlearn: 0.0032827\ttotal: 2.21s\tremaining: 1m 32s\n",
      "7:\tlearn: 0.0031894\ttotal: 2.45s\tremaining: 1m 29s\n",
      "8:\tlearn: 0.0031335\ttotal: 2.99s\tremaining: 1m 36s\n",
      "9:\tlearn: 0.0030973\ttotal: 3.2s\tremaining: 1m 32s\n",
      "10:\tlearn: 0.0030607\ttotal: 3.51s\tremaining: 1m 32s\n",
      "11:\tlearn: 0.0030397\ttotal: 3.71s\tremaining: 1m 29s\n",
      "12:\tlearn: 0.0030302\ttotal: 4.04s\tremaining: 1m 29s\n",
      "13:\tlearn: 0.0030008\ttotal: 4.18s\tremaining: 1m 25s\n",
      "14:\tlearn: 0.0029651\ttotal: 4.41s\tremaining: 1m 23s\n",
      "15:\tlearn: 0.0029540\ttotal: 4.62s\tremaining: 1m 21s\n",
      "16:\tlearn: 0.0029246\ttotal: 4.85s\tremaining: 1m 20s\n",
      "17:\tlearn: 0.0029020\ttotal: 5.16s\tremaining: 1m 20s\n",
      "18:\tlearn: 0.0028880\ttotal: 5.44s\tremaining: 1m 20s\n",
      "19:\tlearn: 0.0028659\ttotal: 5.83s\tremaining: 1m 21s\n",
      "20:\tlearn: 0.0028562\ttotal: 6.18s\tremaining: 1m 22s\n",
      "21:\tlearn: 0.0028406\ttotal: 6.51s\tremaining: 1m 22s\n",
      "22:\tlearn: 0.0028300\ttotal: 6.7s\tremaining: 1m 20s\n",
      "23:\tlearn: 0.0028253\ttotal: 6.86s\tremaining: 1m 18s\n",
      "24:\tlearn: 0.0028180\ttotal: 7.06s\tremaining: 1m 17s\n",
      "25:\tlearn: 0.0028078\ttotal: 7.25s\tremaining: 1m 16s\n",
      "26:\tlearn: 0.0027998\ttotal: 7.53s\tremaining: 1m 16s\n",
      "27:\tlearn: 0.0027884\ttotal: 7.73s\tremaining: 1m 15s\n",
      "28:\tlearn: 0.0027817\ttotal: 7.95s\tremaining: 1m 14s\n",
      "29:\tlearn: 0.0027687\ttotal: 8.16s\tremaining: 1m 13s\n",
      "30:\tlearn: 0.0027636\ttotal: 8.43s\tremaining: 1m 13s\n",
      "31:\tlearn: 0.0027518\ttotal: 8.69s\tremaining: 1m 12s\n",
      "32:\tlearn: 0.0027443\ttotal: 8.87s\tremaining: 1m 11s\n",
      "33:\tlearn: 0.0027391\ttotal: 9.1s\tremaining: 1m 11s\n",
      "34:\tlearn: 0.0027391\ttotal: 9.22s\tremaining: 1m 9s\n",
      "35:\tlearn: 0.0027391\ttotal: 9.4s\tremaining: 1m 8s\n",
      "36:\tlearn: 0.0027391\ttotal: 9.56s\tremaining: 1m 7s\n",
      "37:\tlearn: 0.0027391\ttotal: 9.71s\tremaining: 1m 6s\n",
      "38:\tlearn: 0.0027391\ttotal: 9.83s\tremaining: 1m 5s\n",
      "39:\tlearn: 0.0027391\ttotal: 10s\tremaining: 1m 4s\n",
      "40:\tlearn: 0.0027391\ttotal: 10.1s\tremaining: 1m 3s\n",
      "41:\tlearn: 0.0027391\ttotal: 10.2s\tremaining: 1m 2s\n",
      "42:\tlearn: 0.0027391\ttotal: 10.4s\tremaining: 1m 1s\n",
      "43:\tlearn: 0.0027391\ttotal: 10.5s\tremaining: 1m 1s\n",
      "44:\tlearn: 0.0027391\ttotal: 10.7s\tremaining: 1m\n",
      "45:\tlearn: 0.0027391\ttotal: 10.9s\tremaining: 60s\n",
      "46:\tlearn: 0.0027391\ttotal: 11s\tremaining: 59.2s\n",
      "47:\tlearn: 0.0027391\ttotal: 11.1s\tremaining: 58.5s\n",
      "48:\tlearn: 0.0027391\ttotal: 11.3s\tremaining: 57.7s\n",
      "49:\tlearn: 0.0027391\ttotal: 11.5s\tremaining: 57.3s\n",
      "50:\tlearn: 0.0027391\ttotal: 11.6s\tremaining: 56.6s\n",
      "51:\tlearn: 0.0027391\ttotal: 11.7s\tremaining: 56s\n",
      "52:\tlearn: 0.0027391\ttotal: 11.9s\tremaining: 55.6s\n",
      "53:\tlearn: 0.0027391\ttotal: 12.1s\tremaining: 55.2s\n",
      "54:\tlearn: 0.0027391\ttotal: 12.3s\tremaining: 54.7s\n",
      "55:\tlearn: 0.0027391\ttotal: 12.5s\tremaining: 54.3s\n",
      "56:\tlearn: 0.0027391\ttotal: 12.6s\tremaining: 53.7s\n",
      "57:\tlearn: 0.0027391\ttotal: 12.7s\tremaining: 53s\n",
      "58:\tlearn: 0.0027391\ttotal: 12.8s\tremaining: 52.3s\n",
      "59:\tlearn: 0.0027391\ttotal: 12.9s\tremaining: 51.7s\n",
      "60:\tlearn: 0.0027391\ttotal: 13s\tremaining: 51s\n",
      "61:\tlearn: 0.0027391\ttotal: 13.1s\tremaining: 50.4s\n",
      "62:\tlearn: 0.0027391\ttotal: 13.3s\tremaining: 50.2s\n",
      "63:\tlearn: 0.0027391\ttotal: 13.4s\tremaining: 49.6s\n",
      "64:\tlearn: 0.0027391\ttotal: 13.5s\tremaining: 48.9s\n",
      "65:\tlearn: 0.0027391\ttotal: 13.6s\tremaining: 48.4s\n",
      "66:\tlearn: 0.0027391\ttotal: 13.7s\tremaining: 47.8s\n",
      "67:\tlearn: 0.0027391\ttotal: 13.8s\tremaining: 47.2s\n",
      "68:\tlearn: 0.0027391\ttotal: 13.9s\tremaining: 46.7s\n",
      "69:\tlearn: 0.0027391\ttotal: 14.1s\tremaining: 46.2s\n",
      "70:\tlearn: 0.0027391\ttotal: 14.2s\tremaining: 45.8s\n",
      "71:\tlearn: 0.0027391\ttotal: 14.3s\tremaining: 45.4s\n",
      "72:\tlearn: 0.0027391\ttotal: 14.5s\tremaining: 45s\n",
      "73:\tlearn: 0.0027391\ttotal: 14.6s\tremaining: 44.6s\n",
      "74:\tlearn: 0.0027391\ttotal: 14.7s\tremaining: 44.2s\n",
      "75:\tlearn: 0.0027391\ttotal: 14.9s\tremaining: 43.8s\n",
      "76:\tlearn: 0.0027391\ttotal: 15s\tremaining: 43.3s\n",
      "77:\tlearn: 0.0027391\ttotal: 15.1s\tremaining: 42.9s\n",
      "78:\tlearn: 0.0027391\ttotal: 15.2s\tremaining: 42.5s\n",
      "79:\tlearn: 0.0027391\ttotal: 15.3s\tremaining: 42.1s\n",
      "80:\tlearn: 0.0027391\ttotal: 15.4s\tremaining: 41.8s\n",
      "81:\tlearn: 0.0027391\ttotal: 15.6s\tremaining: 41.4s\n",
      "82:\tlearn: 0.0027391\ttotal: 15.7s\tremaining: 41s\n",
      "83:\tlearn: 0.0027391\ttotal: 15.8s\tremaining: 40.7s\n",
      "84:\tlearn: 0.0027391\ttotal: 16s\tremaining: 40.4s\n",
      "85:\tlearn: 0.0027391\ttotal: 16.1s\tremaining: 40s\n",
      "86:\tlearn: 0.0027391\ttotal: 16.2s\tremaining: 39.6s\n",
      "87:\tlearn: 0.0027391\ttotal: 16.4s\tremaining: 39.4s\n",
      "88:\tlearn: 0.0027391\ttotal: 16.5s\tremaining: 39.1s\n",
      "89:\tlearn: 0.0027391\ttotal: 16.6s\tremaining: 38.7s\n",
      "90:\tlearn: 0.0027391\ttotal: 16.7s\tremaining: 38.3s\n",
      "91:\tlearn: 0.0027391\ttotal: 16.8s\tremaining: 37.9s\n",
      "92:\tlearn: 0.0027391\ttotal: 16.9s\tremaining: 37.5s\n",
      "93:\tlearn: 0.0027391\ttotal: 17s\tremaining: 37.2s\n",
      "94:\tlearn: 0.0027391\ttotal: 17.1s\tremaining: 36.8s\n",
      "95:\tlearn: 0.0027391\ttotal: 17.2s\tremaining: 36.5s\n",
      "96:\tlearn: 0.0027391\ttotal: 17.3s\tremaining: 36.2s\n",
      "97:\tlearn: 0.0027391\ttotal: 17.4s\tremaining: 35.9s\n",
      "98:\tlearn: 0.0027391\ttotal: 17.5s\tremaining: 35.5s\n",
      "99:\tlearn: 0.0027391\ttotal: 17.6s\tremaining: 35.2s\n",
      "100:\tlearn: 0.0027391\ttotal: 17.7s\tremaining: 34.9s\n",
      "101:\tlearn: 0.0027391\ttotal: 17.8s\tremaining: 34.6s\n",
      "102:\tlearn: 0.0027391\ttotal: 17.9s\tremaining: 34.3s\n",
      "103:\tlearn: 0.0027391\ttotal: 18.1s\tremaining: 34s\n",
      "104:\tlearn: 0.0027391\ttotal: 18.2s\tremaining: 33.8s\n",
      "105:\tlearn: 0.0027391\ttotal: 18.3s\tremaining: 33.5s\n",
      "106:\tlearn: 0.0027391\ttotal: 18.4s\tremaining: 33.3s\n",
      "107:\tlearn: 0.0027391\ttotal: 18.6s\tremaining: 33s\n",
      "108:\tlearn: 0.0027391\ttotal: 18.7s\tremaining: 32.7s\n",
      "109:\tlearn: 0.0027391\ttotal: 18.8s\tremaining: 32.4s\n",
      "110:\tlearn: 0.0027391\ttotal: 18.9s\tremaining: 32.1s\n",
      "111:\tlearn: 0.0027391\ttotal: 19s\tremaining: 31.9s\n",
      "112:\tlearn: 0.0027391\ttotal: 19.1s\tremaining: 31.6s\n",
      "113:\tlearn: 0.0027391\ttotal: 19.2s\tremaining: 31.4s\n",
      "114:\tlearn: 0.0027391\ttotal: 19.3s\tremaining: 31.1s\n",
      "115:\tlearn: 0.0027391\ttotal: 19.5s\tremaining: 30.9s\n",
      "116:\tlearn: 0.0027391\ttotal: 19.6s\tremaining: 30.6s\n",
      "117:\tlearn: 0.0027391\ttotal: 19.7s\tremaining: 30.4s\n",
      "118:\tlearn: 0.0027391\ttotal: 19.8s\tremaining: 30.1s\n",
      "119:\tlearn: 0.0027391\ttotal: 19.9s\tremaining: 29.8s\n",
      "120:\tlearn: 0.0027391\ttotal: 20s\tremaining: 29.6s\n",
      "121:\tlearn: 0.0027391\ttotal: 20.1s\tremaining: 29.3s\n",
      "122:\tlearn: 0.0027391\ttotal: 20.2s\tremaining: 29.1s\n",
      "123:\tlearn: 0.0027391\ttotal: 20.4s\tremaining: 28.9s\n",
      "124:\tlearn: 0.0027391\ttotal: 20.5s\tremaining: 28.7s\n",
      "125:\tlearn: 0.0027391\ttotal: 20.6s\tremaining: 28.4s\n",
      "126:\tlearn: 0.0027391\ttotal: 20.7s\tremaining: 28.2s\n",
      "127:\tlearn: 0.0027391\ttotal: 20.8s\tremaining: 28s\n",
      "128:\tlearn: 0.0027391\ttotal: 20.9s\tremaining: 27.7s\n",
      "129:\tlearn: 0.0027391\ttotal: 21s\tremaining: 27.5s\n",
      "130:\tlearn: 0.0027391\ttotal: 21.1s\tremaining: 27.3s\n",
      "131:\tlearn: 0.0027391\ttotal: 21.2s\tremaining: 27s\n",
      "132:\tlearn: 0.0027391\ttotal: 21.3s\tremaining: 26.8s\n",
      "133:\tlearn: 0.0027391\ttotal: 21.5s\tremaining: 26.6s\n",
      "134:\tlearn: 0.0027391\ttotal: 21.6s\tremaining: 26.3s\n",
      "135:\tlearn: 0.0027391\ttotal: 21.7s\tremaining: 26.1s\n",
      "136:\tlearn: 0.0027391\ttotal: 21.8s\tremaining: 25.9s\n",
      "137:\tlearn: 0.0027391\ttotal: 21.9s\tremaining: 25.8s\n",
      "138:\tlearn: 0.0027391\ttotal: 22.1s\tremaining: 25.6s\n",
      "139:\tlearn: 0.0027391\ttotal: 22.2s\tremaining: 25.4s\n",
      "140:\tlearn: 0.0027391\ttotal: 22.3s\tremaining: 25.1s\n",
      "141:\tlearn: 0.0027391\ttotal: 22.4s\tremaining: 24.9s\n",
      "142:\tlearn: 0.0027391\ttotal: 22.5s\tremaining: 24.7s\n",
      "143:\tlearn: 0.0027391\ttotal: 22.6s\tremaining: 24.5s\n",
      "144:\tlearn: 0.0027391\ttotal: 22.7s\tremaining: 24.3s\n",
      "145:\tlearn: 0.0027391\ttotal: 22.8s\tremaining: 24.1s\n",
      "146:\tlearn: 0.0027391\ttotal: 22.9s\tremaining: 23.9s\n",
      "147:\tlearn: 0.0027391\ttotal: 23s\tremaining: 23.7s\n",
      "148:\tlearn: 0.0027391\ttotal: 23.1s\tremaining: 23.5s\n",
      "149:\tlearn: 0.0027391\ttotal: 23.3s\tremaining: 23.3s\n",
      "150:\tlearn: 0.0027391\ttotal: 23.4s\tremaining: 23.1s\n",
      "151:\tlearn: 0.0027391\ttotal: 23.5s\tremaining: 22.9s\n",
      "152:\tlearn: 0.0027391\ttotal: 23.6s\tremaining: 22.7s\n",
      "153:\tlearn: 0.0027391\ttotal: 23.7s\tremaining: 22.5s\n",
      "154:\tlearn: 0.0027391\ttotal: 23.8s\tremaining: 22.3s\n",
      "155:\tlearn: 0.0027391\ttotal: 23.9s\tremaining: 22.1s\n",
      "156:\tlearn: 0.0027391\ttotal: 24s\tremaining: 21.9s\n",
      "157:\tlearn: 0.0027391\ttotal: 24.1s\tremaining: 21.7s\n",
      "158:\tlearn: 0.0027391\ttotal: 24.3s\tremaining: 21.5s\n",
      "159:\tlearn: 0.0027391\ttotal: 24.4s\tremaining: 21.3s\n",
      "160:\tlearn: 0.0027391\ttotal: 24.5s\tremaining: 21.2s\n",
      "161:\tlearn: 0.0027391\ttotal: 24.6s\tremaining: 21s\n",
      "162:\tlearn: 0.0027391\ttotal: 24.8s\tremaining: 20.8s\n",
      "163:\tlearn: 0.0027391\ttotal: 24.9s\tremaining: 20.6s\n",
      "164:\tlearn: 0.0027391\ttotal: 25s\tremaining: 20.4s\n",
      "165:\tlearn: 0.0027391\ttotal: 25.1s\tremaining: 20.3s\n",
      "166:\tlearn: 0.0027391\ttotal: 25.2s\tremaining: 20.1s\n",
      "167:\tlearn: 0.0027391\ttotal: 25.3s\tremaining: 19.9s\n",
      "168:\tlearn: 0.0027391\ttotal: 25.4s\tremaining: 19.7s\n",
      "169:\tlearn: 0.0027391\ttotal: 25.6s\tremaining: 19.6s\n",
      "170:\tlearn: 0.0027391\ttotal: 25.7s\tremaining: 19.4s\n",
      "171:\tlearn: 0.0027391\ttotal: 25.8s\tremaining: 19.2s\n",
      "172:\tlearn: 0.0027391\ttotal: 25.9s\tremaining: 19s\n",
      "173:\tlearn: 0.0027391\ttotal: 26s\tremaining: 18.9s\n",
      "174:\tlearn: 0.0027391\ttotal: 26.2s\tremaining: 18.7s\n",
      "175:\tlearn: 0.0027391\ttotal: 26.3s\tremaining: 18.5s\n",
      "176:\tlearn: 0.0027391\ttotal: 26.4s\tremaining: 18.3s\n",
      "177:\tlearn: 0.0027391\ttotal: 26.5s\tremaining: 18.2s\n",
      "178:\tlearn: 0.0027391\ttotal: 26.6s\tremaining: 18s\n",
      "179:\tlearn: 0.0027391\ttotal: 26.7s\tremaining: 17.8s\n",
      "180:\tlearn: 0.0027391\ttotal: 26.8s\tremaining: 17.6s\n",
      "181:\tlearn: 0.0027391\ttotal: 26.9s\tremaining: 17.5s\n",
      "182:\tlearn: 0.0027391\ttotal: 27.1s\tremaining: 17.3s\n",
      "183:\tlearn: 0.0027391\ttotal: 27.2s\tremaining: 17.1s\n",
      "184:\tlearn: 0.0027391\ttotal: 27.3s\tremaining: 17s\n",
      "185:\tlearn: 0.0027391\ttotal: 27.4s\tremaining: 16.8s\n",
      "186:\tlearn: 0.0027391\ttotal: 27.5s\tremaining: 16.6s\n",
      "187:\tlearn: 0.0027391\ttotal: 27.6s\tremaining: 16.4s\n",
      "188:\tlearn: 0.0027391\ttotal: 27.7s\tremaining: 16.3s\n",
      "189:\tlearn: 0.0027391\ttotal: 27.8s\tremaining: 16.1s\n",
      "190:\tlearn: 0.0027391\ttotal: 27.9s\tremaining: 15.9s\n",
      "191:\tlearn: 0.0027391\ttotal: 28s\tremaining: 15.8s\n",
      "192:\tlearn: 0.0027391\ttotal: 28.2s\tremaining: 15.6s\n",
      "193:\tlearn: 0.0027391\ttotal: 28.3s\tremaining: 15.4s\n",
      "194:\tlearn: 0.0027391\ttotal: 28.4s\tremaining: 15.3s\n",
      "195:\tlearn: 0.0027391\ttotal: 28.5s\tremaining: 15.1s\n",
      "196:\tlearn: 0.0027391\ttotal: 28.6s\tremaining: 15s\n",
      "197:\tlearn: 0.0027391\ttotal: 28.7s\tremaining: 14.8s\n",
      "198:\tlearn: 0.0027391\ttotal: 28.8s\tremaining: 14.6s\n",
      "199:\tlearn: 0.0027391\ttotal: 28.9s\tremaining: 14.5s\n",
      "200:\tlearn: 0.0027391\ttotal: 29.1s\tremaining: 14.3s\n",
      "201:\tlearn: 0.0027391\ttotal: 29.2s\tremaining: 14.2s\n",
      "202:\tlearn: 0.0027391\ttotal: 29.3s\tremaining: 14s\n",
      "203:\tlearn: 0.0027391\ttotal: 29.4s\tremaining: 13.8s\n",
      "204:\tlearn: 0.0027391\ttotal: 29.5s\tremaining: 13.7s\n",
      "205:\tlearn: 0.0027391\ttotal: 29.6s\tremaining: 13.5s\n",
      "206:\tlearn: 0.0027391\ttotal: 29.8s\tremaining: 13.4s\n",
      "207:\tlearn: 0.0027391\ttotal: 29.9s\tremaining: 13.2s\n",
      "208:\tlearn: 0.0027391\ttotal: 30s\tremaining: 13s\n",
      "209:\tlearn: 0.0027391\ttotal: 30.1s\tremaining: 12.9s\n",
      "210:\tlearn: 0.0027391\ttotal: 30.2s\tremaining: 12.7s\n",
      "211:\tlearn: 0.0027391\ttotal: 30.3s\tremaining: 12.6s\n",
      "212:\tlearn: 0.0027391\ttotal: 30.4s\tremaining: 12.4s\n",
      "213:\tlearn: 0.0027391\ttotal: 30.5s\tremaining: 12.3s\n",
      "214:\tlearn: 0.0027391\ttotal: 30.6s\tremaining: 12.1s\n",
      "215:\tlearn: 0.0027391\ttotal: 30.7s\tremaining: 11.9s\n",
      "216:\tlearn: 0.0027391\ttotal: 30.8s\tremaining: 11.8s\n",
      "217:\tlearn: 0.0027391\ttotal: 30.9s\tremaining: 11.6s\n",
      "218:\tlearn: 0.0027391\ttotal: 31s\tremaining: 11.5s\n",
      "219:\tlearn: 0.0027391\ttotal: 31.1s\tremaining: 11.3s\n",
      "220:\tlearn: 0.0027391\ttotal: 31.2s\tremaining: 11.2s\n",
      "221:\tlearn: 0.0027391\ttotal: 31.3s\tremaining: 11s\n",
      "222:\tlearn: 0.0027391\ttotal: 31.4s\tremaining: 10.8s\n",
      "223:\tlearn: 0.0027391\ttotal: 31.5s\tremaining: 10.7s\n",
      "224:\tlearn: 0.0027391\ttotal: 31.6s\tremaining: 10.5s\n",
      "225:\tlearn: 0.0027391\ttotal: 31.7s\tremaining: 10.4s\n",
      "226:\tlearn: 0.0027391\ttotal: 31.8s\tremaining: 10.2s\n",
      "227:\tlearn: 0.0027391\ttotal: 31.9s\tremaining: 10.1s\n",
      "228:\tlearn: 0.0027391\ttotal: 32s\tremaining: 9.93s\n",
      "229:\tlearn: 0.0027391\ttotal: 32.1s\tremaining: 9.77s\n",
      "230:\tlearn: 0.0027391\ttotal: 32.2s\tremaining: 9.63s\n",
      "231:\tlearn: 0.0027391\ttotal: 32.3s\tremaining: 9.47s\n",
      "232:\tlearn: 0.0027391\ttotal: 32.4s\tremaining: 9.32s\n",
      "233:\tlearn: 0.0027391\ttotal: 32.5s\tremaining: 9.18s\n",
      "234:\tlearn: 0.0027391\ttotal: 32.6s\tremaining: 9.03s\n",
      "235:\tlearn: 0.0027391\ttotal: 32.7s\tremaining: 8.88s\n",
      "236:\tlearn: 0.0027391\ttotal: 32.9s\tremaining: 8.73s\n",
      "237:\tlearn: 0.0027391\ttotal: 33s\tremaining: 8.59s\n",
      "238:\tlearn: 0.0027391\ttotal: 33.1s\tremaining: 8.44s\n",
      "239:\tlearn: 0.0027391\ttotal: 33.2s\tremaining: 8.29s\n",
      "240:\tlearn: 0.0027391\ttotal: 33.3s\tremaining: 8.16s\n",
      "241:\tlearn: 0.0027391\ttotal: 33.5s\tremaining: 8.03s\n",
      "242:\tlearn: 0.0027391\ttotal: 33.6s\tremaining: 7.89s\n",
      "243:\tlearn: 0.0027391\ttotal: 33.7s\tremaining: 7.74s\n",
      "244:\tlearn: 0.0027391\ttotal: 33.8s\tremaining: 7.6s\n",
      "245:\tlearn: 0.0027391\ttotal: 33.9s\tremaining: 7.45s\n",
      "246:\tlearn: 0.0027391\ttotal: 34s\tremaining: 7.3s\n",
      "247:\tlearn: 0.0027391\ttotal: 34.2s\tremaining: 7.16s\n",
      "248:\tlearn: 0.0027391\ttotal: 34.3s\tremaining: 7.02s\n",
      "249:\tlearn: 0.0027391\ttotal: 34.3s\tremaining: 6.87s\n",
      "250:\tlearn: 0.0027391\ttotal: 34.5s\tremaining: 6.73s\n",
      "251:\tlearn: 0.0027391\ttotal: 34.6s\tremaining: 6.58s\n",
      "252:\tlearn: 0.0027391\ttotal: 34.7s\tremaining: 6.44s\n",
      "253:\tlearn: 0.0027391\ttotal: 34.8s\tremaining: 6.29s\n",
      "254:\tlearn: 0.0027391\ttotal: 34.9s\tremaining: 6.15s\n",
      "255:\tlearn: 0.0027391\ttotal: 35s\tremaining: 6.01s\n",
      "256:\tlearn: 0.0027391\ttotal: 35.1s\tremaining: 5.87s\n",
      "257:\tlearn: 0.0027391\ttotal: 35.2s\tremaining: 5.72s\n",
      "258:\tlearn: 0.0027391\ttotal: 35.3s\tremaining: 5.58s\n",
      "259:\tlearn: 0.0027391\ttotal: 35.4s\tremaining: 5.44s\n",
      "260:\tlearn: 0.0027391\ttotal: 35.5s\tremaining: 5.3s\n",
      "261:\tlearn: 0.0027391\ttotal: 35.6s\tremaining: 5.16s\n",
      "262:\tlearn: 0.0027391\ttotal: 35.7s\tremaining: 5.02s\n",
      "263:\tlearn: 0.0027391\ttotal: 35.8s\tremaining: 4.88s\n",
      "264:\tlearn: 0.0027391\ttotal: 35.9s\tremaining: 4.74s\n",
      "265:\tlearn: 0.0027391\ttotal: 36s\tremaining: 4.6s\n",
      "266:\tlearn: 0.0027391\ttotal: 36.1s\tremaining: 4.46s\n",
      "267:\tlearn: 0.0027391\ttotal: 36.2s\tremaining: 4.32s\n",
      "268:\tlearn: 0.0027391\ttotal: 36.3s\tremaining: 4.18s\n",
      "269:\tlearn: 0.0027391\ttotal: 36.4s\tremaining: 4.04s\n",
      "270:\tlearn: 0.0027391\ttotal: 36.5s\tremaining: 3.91s\n",
      "271:\tlearn: 0.0027391\ttotal: 36.6s\tremaining: 3.77s\n",
      "272:\tlearn: 0.0027391\ttotal: 36.8s\tremaining: 3.63s\n",
      "273:\tlearn: 0.0027391\ttotal: 36.9s\tremaining: 3.5s\n",
      "274:\tlearn: 0.0027391\ttotal: 37s\tremaining: 3.36s\n",
      "275:\tlearn: 0.0027391\ttotal: 37.1s\tremaining: 3.23s\n",
      "276:\tlearn: 0.0027391\ttotal: 37.2s\tremaining: 3.09s\n",
      "277:\tlearn: 0.0027391\ttotal: 37.3s\tremaining: 2.95s\n",
      "278:\tlearn: 0.0027391\ttotal: 37.4s\tremaining: 2.82s\n",
      "279:\tlearn: 0.0027391\ttotal: 37.5s\tremaining: 2.68s\n",
      "280:\tlearn: 0.0027391\ttotal: 37.7s\tremaining: 2.55s\n",
      "281:\tlearn: 0.0027391\ttotal: 37.8s\tremaining: 2.41s\n",
      "282:\tlearn: 0.0027391\ttotal: 37.9s\tremaining: 2.28s\n",
      "283:\tlearn: 0.0027391\ttotal: 38s\tremaining: 2.14s\n",
      "284:\tlearn: 0.0027391\ttotal: 38.1s\tremaining: 2.01s\n",
      "285:\tlearn: 0.0027391\ttotal: 38.3s\tremaining: 1.87s\n",
      "286:\tlearn: 0.0027391\ttotal: 38.4s\tremaining: 1.74s\n",
      "287:\tlearn: 0.0027391\ttotal: 38.5s\tremaining: 1.6s\n",
      "288:\tlearn: 0.0027391\ttotal: 38.6s\tremaining: 1.47s\n",
      "289:\tlearn: 0.0027391\ttotal: 38.7s\tremaining: 1.33s\n",
      "290:\tlearn: 0.0027391\ttotal: 38.8s\tremaining: 1.2s\n",
      "291:\tlearn: 0.0027391\ttotal: 39s\tremaining: 1.07s\n",
      "292:\tlearn: 0.0027391\ttotal: 39.1s\tremaining: 933ms\n",
      "293:\tlearn: 0.0027391\ttotal: 39.2s\tremaining: 799ms\n",
      "294:\tlearn: 0.0027391\ttotal: 39.3s\tremaining: 666ms\n",
      "295:\tlearn: 0.0027391\ttotal: 39.4s\tremaining: 532ms\n",
      "296:\tlearn: 0.0027391\ttotal: 39.5s\tremaining: 399ms\n",
      "297:\tlearn: 0.0027391\ttotal: 39.6s\tremaining: 266ms\n",
      "298:\tlearn: 0.0027391\ttotal: 39.7s\tremaining: 133ms\n",
      "299:\tlearn: 0.0027391\ttotal: 39.8s\tremaining: 0us\n"
     ]
    }
   ],
   "source": [
    "cb = CatBoostClassifier(random_state = 1, iterations = 200)\n",
    "cb.fit(x_train, y_train)\n",
    "cb_pred = cb.predict(x_test)\n"
   ]
  },
  {
   "cell_type": "code",
   "execution_count": 54,
   "metadata": {},
   "outputs": [
    {
     "name": "stdout",
     "output_type": "stream",
     "text": [
      "              precision    recall  f1-score   support\n",
      "\n",
      "         0.0       1.00      1.00      1.00    228077\n",
      "         1.0       0.99      0.99      0.99     21923\n",
      "\n",
      "    accuracy                           1.00    250000\n",
      "   macro avg       1.00      0.99      1.00    250000\n",
      "weighted avg       1.00      1.00      1.00    250000\n",
      "\n"
     ]
    },
    {
     "data": {
      "image/png": "[encoded data removed]",
      "text/plain": [
       "<Figure size 432x288 with 2 Axes>"
      ]
     },
     "metadata": {
      "needs_background": "light"
     },
     "output_type": "display_data"
    }
   ],
   "source": [
    "print(classification_report(y_test, cb_pred))\n",
    "ConfusionMatrixDisplay(confusion_matrix(y_test, cb_pred)).plot()\n",
    "plt.show()"
   ]
  },
  {
   "cell_type": "markdown",
   "metadata": {},
   "source": [
    "## Observações"
   ]
  },
  {
   "cell_type": "markdown",
   "metadata": {},
   "source": [
    "Melhores modelos:\n",
    "* Decision tree \n",
    "* Random Forest\n",
    "<p> Ambos com praticamente 100% de acertos em Recall e Precisão</p>"
   ]
  },
  {
   "cell_type": "code",
   "execution_count": 50,
   "metadata": {},
   "outputs": [
    {
     "name": "stdout",
     "output_type": "stream",
     "text": [
      "DecisionTreeClassifier(criterion='entropy', random_state=1)\n",
      "              precision    recall  f1-score   support\n",
      "\n",
      "         0.0       1.00      1.00      1.00    228077\n",
      "         1.0       1.00      1.00      1.00     21923\n",
      "\n",
      "    accuracy                           1.00    250000\n",
      "   macro avg       1.00      1.00      1.00    250000\n",
      "weighted avg       1.00      1.00      1.00    250000\n",
      "\n"
     ]
    },
    {
     "data": {
      "image/png": "[encoded data removed]",
      "text/plain": [
       "<Figure size 432x288 with 2 Axes>"
      ]
     },
     "metadata": {
      "needs_background": "light"
     },
     "output_type": "display_data"
    }
   ],
   "source": [
    "print(dt)\n",
    "print(classification_report(y_test, dt_pred))\n",
    "ConfusionMatrixDisplay(confusion_matrix(y_test, dt_pred)).plot()\n",
    "plt.show()"
   ]
  },
  {
   "cell_type": "code",
   "execution_count": 52,
   "metadata": {},
   "outputs": [
    {
     "name": "stdout",
     "output_type": "stream",
     "text": [
      "RandomForestClassifier(criterion='entropy', random_state=1)\n",
      "              precision    recall  f1-score   support\n",
      "\n",
      "         0.0       1.00      1.00      1.00    228077\n",
      "         1.0       1.00      1.00      1.00     21923\n",
      "\n",
      "    accuracy                           1.00    250000\n",
      "   macro avg       1.00      1.00      1.00    250000\n",
      "weighted avg       1.00      1.00      1.00    250000\n",
      "\n"
     ]
    },
    {
     "data": {
      "image/png": "[encoded data removed]",
      "text/plain": [
       "<Figure size 432x288 with 2 Axes>"
      ]
     },
     "metadata": {
      "needs_background": "light"
     },
     "output_type": "display_data"
    }
   ],
   "source": [
    "print(rf)\n",
    "print(classification_report(y_test, rf_pred))\n",
    "ConfusionMatrixDisplay(confusion_matrix(y_test, rf_pred)).plot()\n",
    "plt.show()"
   ]
  },
  {
   "cell_type": "code",
   "execution_count": null,
   "metadata": {},
   "outputs": [],
   "source": []
  }
 ],
 "metadata": {
  "kernelspec": {
   "display_name": "Python 3.8.5 ('base')",
   "language": "python",
   "name": "python3"
  },
  "language_info": {
   "codemirror_mode": {
    "name": "ipython",
    "version": 3
   },
   "file_extension": ".py",
   "mimetype": "text/x-python",
   "name": "python",
   "nbconvert_exporter": "python",
   "pygments_lexer": "ipython3",
   "version": "3.8.5"
  },
  "orig_nbformat": 4,
  "vscode": {
   "interpreter": {
    "hash": "665796ea3363072d3a6057ac2fdbe3c4fcb0d17a4b92295d9707f78e9c46c0af"
   }
  }
 },
 "nbformat": 4,
 "nbformat_minor": 2
}
